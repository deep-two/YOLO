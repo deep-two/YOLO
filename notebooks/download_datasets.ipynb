{
 "nbformat": 4,
 "nbformat_minor": 0,
 "metadata": {
  "colab": {
   "name": "yolo-test.ipynb",
   "provenance": [],
   "collapsed_sections": []
  },
  "kernelspec": {
   "name": "python3",
   "display_name": "Python 3"
  },
  "language_info": {
   "name": "python"
  },
  "accelerator": "GPU"
 },
 "cells": [
  {
   "cell_type": "markdown",
   "metadata": {
    "id": "2LWd3L8Kxf6i"
   },
   "source": [
    "# Prepare dataset\n",
    "This notebook for download `ImageNet`, `PascalVOC` datasets."
   ]
  },
  {
   "cell_type": "code",
   "metadata": {
    "colab": {
     "base_uri": "https://localhost:8080/"
    },
    "id": "mp5H5LyEsIYE",
    "outputId": "36f180bc-52ee-43b3-abca-b6a330787537"
   },
   "source": [
    "from google.colab import drive\n",
    "drive.mount('/content/drive')"
   ],
   "execution_count": null,
   "outputs": [
    {
     "output_type": "stream",
     "name": "stdout",
     "text": [
      "Drive already mounted at /content/drive; to attempt to forcibly remount, call drive.mount(\"/content/drive\", force_remount=True).\n"
     ]
    }
   ]
  },
  {
   "cell_type": "code",
   "metadata": {
    "colab": {
     "base_uri": "https://localhost:8080/"
    },
    "id": "xm-l-iN-vdhG",
    "outputId": "f94151f3-b361-47bb-a100-5e1376916fc5"
   },
   "source": [
    "%cd /content/drive/MyDrive/deep2_study"
   ],
   "execution_count": null,
   "outputs": [
    {
     "output_type": "stream",
     "name": "stdout",
     "text": [
      "/content/drive/MyDrive/deep2_study\n"
     ]
    }
   ]
  },
  {
   "cell_type": "code",
   "metadata": {
    "colab": {
     "base_uri": "https://localhost:8080/"
    },
    "id": "PMLbholORUTH",
    "outputId": "db823d2e-2abc-4ec8-828c-3c7f05979645"
   },
   "source": [
    "!pip install kaggle==1.5.12"
   ],
   "execution_count": null,
   "outputs": [
    {
     "output_type": "stream",
     "name": "stdout",
     "text": [
      "Requirement already satisfied: kaggle==1.5.12 in /usr/local/lib/python3.7/dist-packages (1.5.12)\n",
      "Requirement already satisfied: tqdm in /usr/local/lib/python3.7/dist-packages (from kaggle==1.5.12) (4.62.3)\n",
      "Requirement already satisfied: six>=1.10 in /usr/local/lib/python3.7/dist-packages (from kaggle==1.5.12) (1.15.0)\n",
      "Requirement already satisfied: certifi in /usr/local/lib/python3.7/dist-packages (from kaggle==1.5.12) (2021.5.30)\n",
      "Requirement already satisfied: requests in /usr/local/lib/python3.7/dist-packages (from kaggle==1.5.12) (2.23.0)\n",
      "Requirement already satisfied: urllib3 in /usr/local/lib/python3.7/dist-packages (from kaggle==1.5.12) (1.24.3)\n",
      "Requirement already satisfied: python-slugify in /usr/local/lib/python3.7/dist-packages (from kaggle==1.5.12) (5.0.2)\n",
      "Requirement already satisfied: python-dateutil in /usr/local/lib/python3.7/dist-packages (from kaggle==1.5.12) (2.8.2)\n",
      "Requirement already satisfied: text-unidecode>=1.3 in /usr/local/lib/python3.7/dist-packages (from python-slugify->kaggle==1.5.12) (1.3)\n",
      "Requirement already satisfied: chardet<4,>=3.0.2 in /usr/local/lib/python3.7/dist-packages (from requests->kaggle==1.5.12) (3.0.4)\n",
      "Requirement already satisfied: idna<3,>=2.5 in /usr/local/lib/python3.7/dist-packages (from requests->kaggle==1.5.12) (2.10)\n"
     ]
    }
   ]
  },
  {
   "cell_type": "markdown",
   "metadata": {
    "id": "oJXTYd_hNE6c"
   },
   "source": [
    "## Set Kaggle API token\n",
    "if you want to use personal Kaggle API token upload your persnal token file to dirve and change the token path.\n",
    "\n",
    "`!mkdir -p ~/.kaggle/ && cp {YOUR TOKEN PATH} ~/.kaggle/ && chmod 600 ~/.kaggle/kaggle.json`\n",
    "\n",
    "or just run the below cell"
   ]
  },
  {
   "cell_type": "code",
   "metadata": {
    "colab": {
     "base_uri": "https://localhost:8080/"
    },
    "id": "_j3tNKBfNJP_",
    "outputId": "f361483c-36d1-43ec-f519-bd6c0528e1ed"
   },
   "source": [
    "!mkdir -p ~/.kaggle/ && cp kaggle_api/kaggle.json ~/.kaggle/ && chmod 600 ~/.kaggle/kaggle.json"
   ],
   "execution_count": null,
   "outputs": [
    {
     "output_type": "stream",
     "name": "stdout",
     "text": [
      "/bin/bash: !chmod: command not found\n"
     ]
    }
   ]
  },
  {
   "cell_type": "markdown",
   "metadata": {
    "id": "i1fJxor6Qmrn"
   },
   "source": [
    "## Clone the github repository"
   ]
  },
  {
   "cell_type": "code",
   "metadata": {
    "colab": {
     "base_uri": "https://localhost:8080/"
    },
    "id": "jSzH9z7dQ4TO",
    "outputId": "0481c20b-8def-400f-aad9-8e9dbbb4e700"
   },
   "source": [
    "%cd code"
   ],
   "execution_count": null,
   "outputs": [
    {
     "output_type": "stream",
     "name": "stdout",
     "text": [
      "/content/drive/MyDrive/deep2_study/code\n"
     ]
    }
   ]
  },
  {
   "cell_type": "code",
   "metadata": {
    "id": "wHmuvNxawLsY"
   },
   "source": [
    "# The below code has to run only once\n",
    "# YOLO repository already exist in google drive\n",
    "# !git clone https://github.com/deep-two/YOLO.git"
   ],
   "execution_count": null,
   "outputs": []
  },
  {
   "cell_type": "code",
   "metadata": {
    "colab": {
     "base_uri": "https://localhost:8080/"
    },
    "id": "hRqcf40-wjSa",
    "outputId": "b8ecf7a3-63c6-428d-d387-69efac799b30"
   },
   "source": [
    "%cd YOLO\n",
    "!git checkout dev"
   ],
   "execution_count": null,
   "outputs": [
    {
     "output_type": "stream",
     "name": "stdout",
     "text": [
      "/content/drive/MyDrive/deep2_study/code/YOLO\n",
      "M\tdata/__init__.py\n",
      "M\tmodel/__init__.py\n",
      "M\ttrain.py\n",
      "M\tutils/__init__.py\n",
      "Already on 'dev'\n",
      "Your branch is up to date with 'origin/dev'.\n"
     ]
    }
   ]
  },
  {
   "cell_type": "markdown",
   "metadata": {
    "id": "HfVnvSxyQgUL"
   },
   "source": [
    "# Download Data"
   ]
  },
  {
   "cell_type": "code",
   "metadata": {
    "id": "6KOTBEt3PDrq",
    "colab": {
     "base_uri": "https://localhost:8080/"
    },
    "outputId": "e15a68ac-4900-4b92-c432-46d333430950"
   },
   "source": [
    "%cd data"
   ],
   "execution_count": null,
   "outputs": [
    {
     "output_type": "stream",
     "name": "stdout",
     "text": [
      "/content/drive/My Drive/deep2_study/code/YOLO/data\n"
     ]
    }
   ]
  },
  {
   "cell_type": "code",
   "metadata": {
    "colab": {
     "base_uri": "https://localhost:8080/"
    },
    "id": "CoEFOXXKPDEb",
    "outputId": "19ae0c00-d48e-4707-96ac-ac64a10a092c"
   },
   "source": [
    "!kaggle competitions list"
   ],
   "execution_count": null,
   "outputs": [
    {
     "output_type": "stream",
     "name": "stdout",
     "text": [
      "Warning: Looks like you're using an outdated API Version, please consider updating (server 1.5.12 / client 1.5.4)\n",
      "ref                                            deadline             category            reward  teamCount  userHasEntered  \n",
      "---------------------------------------------  -------------------  ---------------  ---------  ---------  --------------  \n",
      "contradictory-my-dear-watson                   2030-07-01 23:59:00  Getting Started     Prizes         54           False  \n",
      "gan-getting-started                            2030-07-01 23:59:00  Getting Started     Prizes         89           False  \n",
      "store-sales-time-series-forecasting            2030-06-30 23:59:00  Getting Started  Knowledge        341           False  \n",
      "tpu-getting-started                            2030-06-03 23:59:00  Getting Started  Knowledge        171           False  \n",
      "digit-recognizer                               2030-01-01 00:00:00  Getting Started  Knowledge       1406           False  \n",
      "titanic                                        2030-01-01 00:00:00  Getting Started  Knowledge      15367            True  \n",
      "house-prices-advanced-regression-techniques    2030-01-01 00:00:00  Getting Started  Knowledge       4398            True  \n",
      "connectx                                       2030-01-01 00:00:00  Getting Started  Knowledge        283           False  \n",
      "nlp-getting-started                            2030-01-01 00:00:00  Getting Started  Knowledge       1298           False  \n",
      "competitive-data-science-predict-future-sales  2022-12-31 23:59:00  Playground           Kudos      12724           False  \n",
      "petfinder-pawpularity-score                    2022-01-13 23:59:00  Research           $25,000       1315           False  \n",
      "optiver-realized-volatility-prediction         2022-01-10 23:59:00  Featured          $100,000       3852           False  \n",
      "nfl-big-data-bowl-2022                         2022-01-06 23:59:00  Analytics         $100,000          0           False  \n",
      "sartorius-cell-instance-segmentation           2021-12-30 23:59:00  Featured           $75,000        261           False  \n",
      "wikipedia-image-caption                        2021-12-09 11:59:00  Playground            Swag         66           False  \n",
      "lux-ai-2021                                    2021-12-06 23:59:00  Featured           $10,000        862           False  \n",
      "kaggle-survey-2021                             2021-11-28 23:59:00  Analytics          $30,000          0           False  \n",
      "chaii-hindi-and-tamil-question-answering       2021-11-15 23:59:00  Research           $10,000        727           False  \n",
      "ventilator-pressure-prediction                 2021-11-03 23:59:00  Research            $7,500       2410           False  \n",
      "nfl-health-and-safety-helmet-assignment        2021-11-02 23:59:00  Featured          $100,000        778           False  \n"
     ]
    }
   ]
  },
  {
   "cell_type": "markdown",
   "metadata": {
    "id": "kdpImweOTAh_"
   },
   "source": [
    "## ImageNet\n",
    "\n",
    "You can check the information about ImageNet dataset [HERE](https://www.kaggle.com/c/imagenet-object-localization-challenge/data"
   ]
  },
  {
   "cell_type": "code",
   "metadata": {
    "id": "jVcHEx_fsg7e",
    "colab": {
     "base_uri": "https://localhost:8080/"
    },
    "outputId": "ba1d7eaa-3e50-440f-a65d-fcc25bdb5961"
   },
   "source": [
    "!kaggle competitions download -c imagenet-object-localization-challenge"
   ],
   "execution_count": null,
   "outputs": [
    {
     "output_type": "stream",
     "name": "stdout",
     "text": [
      "Warning: Looks like you're using an outdated API Version, please consider updating (server 1.5.12 / client 1.5.4)\n",
      "Downloading LOC_train_solution.csv.zip to /content/drive/My Drive/deep2_study/code/YOLO/data\n",
      " 82% 5.00M/6.07M [00:00<00:00, 12.6MB/s]\n",
      "100% 6.07M/6.07M [00:00<00:00, 13.7MB/s]\n",
      "Downloading LOC_sample_submission.csv.zip to /content/drive/My Drive/deep2_study/code/YOLO/data\n",
      "  0% 0.00/245k [00:00<?, ?B/s]\n",
      "100% 245k/245k [00:00<00:00, 35.4MB/s]\n",
      "Downloading LOC_val_solution.csv.zip to /content/drive/My Drive/deep2_study/code/YOLO/data\n",
      "  0% 0.00/980k [00:00<?, ?B/s]\n",
      "100% 980k/980k [00:00<00:00, 65.5MB/s]\n",
      "Downloading LOC_synset_mapping.txt to /content/drive/My Drive/deep2_study/code/YOLO/data\n",
      "  0% 0.00/30.9k [00:00<?, ?B/s]\n",
      "100% 30.9k/30.9k [00:00<00:00, 4.35MB/s]\n",
      "Downloading imagenet_object_localization_patched2019.tar.gz to /content/drive/My Drive/deep2_study/code/YOLO/data\n",
      " 77% 120G/155G [24:14<07:02, 88.4MB/s]\n",
      "Traceback (most recent call last):\n",
      "  File \"/usr/local/bin/kaggle\", line 8, in <module>\n",
      "    sys.exit(main())\n",
      "  File \"/usr/local/lib/python2.7/dist-packages/kaggle/cli.py\", line 51, in main\n",
      "    out = args.func(**command_args)\n",
      "  File \"/usr/local/lib/python2.7/dist-packages/kaggle/api/kaggle_api_extended.py\", line 732, in competition_download_cli\n",
      "    quiet)\n",
      "  File \"/usr/local/lib/python2.7/dist-packages/kaggle/api/kaggle_api_extended.py\", line 699, in competition_download_files\n",
      "    force, quiet)\n",
      "  File \"/usr/local/lib/python2.7/dist-packages/kaggle/api/kaggle_api_extended.py\", line 677, in competition_download_file\n",
      "    self.download_file(response, outfile, quiet)\n",
      "  File \"/usr/local/lib/python2.7/dist-packages/kaggle/api/kaggle_api_extended.py\", line 1512, in download_file\n",
      "    out.write(data)\n",
      "IOError: [Errno 28] No space left on device\n"
     ]
    }
   ]
  },
  {
   "cell_type": "markdown",
   "metadata": {
    "id": "495YfcaXTtvZ",
    "pycharm": {
     "name": "#%% md\n"
    }
   },
   "source": [
    "## VOC 2012\n",
    "\n",
    "You can check the information about ImageNet dataset [HERE](https://pjreddie.com/projects/pascal-voc-dataset-mirror)"
   ]
  },
  {
   "cell_type": "markdown",
   "source": [
    "### Train / Validation datset"
   ],
   "metadata": {
    "collapsed": false,
    "pycharm": {
     "name": "#%% md\n"
    }
   }
  },
  {
   "cell_type": "code",
   "execution_count": null,
   "outputs": [],
   "source": [
    "!wget http://pjreddie.com/media/files/VOCtrainval_11-May-2012.tar\n",
    "# or you can download file with directory predix like the below line\n",
    "# !wget -P /tmp http://pjreddie.com/media/files/VOCtrainval_11-May-2012.tar"
   ],
   "metadata": {
    "collapsed": false,
    "pycharm": {
     "name": "#%%\n"
    }
   }
  },
  {
   "cell_type": "code",
   "execution_count": null,
   "outputs": [],
   "source": [
    "!wget http://pjreddie.com/media/files/VOC2012test.tar\n"
   ],
   "metadata": {
    "collapsed": false,
    "pycharm": {
     "name": "#%%\n"
    }
   }
  }
 ]
}